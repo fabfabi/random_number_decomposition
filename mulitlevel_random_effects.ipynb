{
 "cells": [
  {
   "cell_type": "markdown",
   "metadata": {},
   "source": [
    "# [Random Effects Model](https://en.wikipedia.org/wiki/Random_effects_model)\n",
    "try out [statsmodel's mixed linear model](https://www.statsmodels.org/stable/mixed_linear.html)"
   ]
  },
  {
   "cell_type": "code",
   "execution_count": 3,
   "metadata": {},
   "outputs": [],
   "source": [
    "import numpy as np\n",
    "from sklearn.preprocessing import OneHotEncoder\n",
    "import pandas as pd\n",
    "\n",
    "import statsmodels.api as sm\n",
    "import statsmodels.formula.api as smf"
   ]
  },
  {
   "cell_type": "code",
   "execution_count": 37,
   "metadata": {},
   "outputs": [],
   "source": [
    "def align_coefficients(coefs):\n",
    "    \"\"\"ensure that the average over all contributers per level is 0\"\"\"\n",
    "    mem = []\n",
    "    for lcoefs in coefs:\n",
    "        avg = np.mean([m for (m, s) in lcoefs.values()])\n",
    "        mem.append({k: (m - avg, s) for k, (m, s) in lcoefs.items()})\n",
    "\n",
    "    return mem\n",
    "\n",
    "\n",
    "def gen_contributer_coefficients(n_contributers, contributer_avg, contributer_sig):\n",
    "    \"\"\"creates for n_contributers the average and standard deviation\n",
    "    Input:\n",
    "    * n_contributers: list with number of influencers for each level\n",
    "    * contributer_avg: average for the average of the influencers\n",
    "    * contributer_sig: average for the stdev for the influencers (lognormal distribution)\n",
    "\n",
    "    Output:\n",
    "    Dictionary {level : { influencer: (mu, sigma)}} with the coefficients for every\n",
    "    influencer in each level\n",
    "    \"\"\"\n",
    "    assert n_contributers[0] == 1, \"First level is allowed to have one contributer\"\n",
    "    return [\n",
    "        {\n",
    "            i: (np.random.normal(contributer_avg), np.random.lognormal(contributer_sig))\n",
    "            for i in range(num)\n",
    "        }\n",
    "        for lvl, num in enumerate(n_contributers)\n",
    "    ]\n",
    "    return align_coefficients(\n",
    "        [\n",
    "            {\n",
    "                i: (\n",
    "                    np.random.normal(contributer_avg),\n",
    "                    np.random.lognormal(contributer_sig),\n",
    "                )\n",
    "                for i in range(num)\n",
    "            }\n",
    "            for lvl, num in enumerate(n_contributers)\n",
    "        ]\n",
    "    )\n",
    "\n",
    "\n",
    "def print_coefficients(contributer_coefficients):\n",
    "    # contributer_coefficients = align_coefficients(contributer_coefficients)\n",
    "    for m, stage in enumerate(contributer_coefficients):\n",
    "        for i, (mu, sig) in stage.items():\n",
    "            print(f\"Stage {m}: Contributer {i} mu={mu:.2f}, sig={sig:.2f}\")\n",
    "\n",
    "\n",
    "def gen_data(contributer_coefficients, n_samples):\n",
    "    \"\"\"generate random data.\n",
    "    The first level defines the baseline that holds for all random numbers\n",
    "\n",
    "    Inputs:\n",
    "    * n_samples: number of samples\n",
    "    * contributer_coefficients: dictionary with (mean,sig) per level per contributer\n",
    "\n",
    "    Outputs:\n",
    "    * data: array with the final number\n",
    "    * contributers: matrix defining the contributers, first column is for the first level\"\"\"\n",
    "\n",
    "    assert (\n",
    "        len(contributer_coefficients[0]) == 1\n",
    "    ), \"Level 0 defines the baseline. It should have exactly one contributer\"\n",
    "    # data = np.random.normal(gen_avg, gen_sig, n_samples)\n",
    "    data = np.zeros((n_samples,))\n",
    "    contributers = np.zeros((n_samples, len(contributer_coefficients)))\n",
    "    for lvl, cdict in enumerate(contributer_coefficients):\n",
    "        # print(f\"creating level {lvl}\")\n",
    "        lvl_influencers = len(cdict)  # number of influencers in this level\n",
    "        lvldata = np.zeros((n_samples, lvl_influencers))\n",
    "\n",
    "        for i, (mu, sig) in cdict.items():\n",
    "            lvldata[:, i] = np.random.normal(mu, sig, n_samples)\n",
    "\n",
    "        selection = np.random.randint(low=0, high=lvl_influencers, size=(n_samples))\n",
    "        contributers[:, lvl] = selection\n",
    "\n",
    "        data += np.array([lvldata[row, col] for row, col in enumerate(selection)])\n",
    "        # Note: The first level\n",
    "    return data, contributers[:, 1:].astype(int)\n",
    "\n",
    "\n",
    "def generate(n_samples, contributer_coefficients):\n",
    "    if contributer_coefficients == 2:\n",
    "        n_contributers = len(contributer_coefficients[1])\n",
    "        print(\"ATTENTION: just for one level\")\n",
    "    else:\n",
    "        n_contributers = [len(level) for level in contributer_coefficients][1:]\n",
    "\n",
    "    print(\"generating Data for\")\n",
    "    print_coefficients(contributer_coefficients)\n",
    "\n",
    "    data, contributers = gen_data(\n",
    "        n_samples=n_samples, contributer_coefficients=contributer_coefficients\n",
    "    )\n",
    "\n",
    "    # contributers = contributers.squeeze(-1) # kill the first level - not needed\n",
    "    return data, contributers, n_contributers\n",
    "\n",
    "\n",
    "def to_df(array):\n",
    "    cols = [f\"group_{i}\" for i in range(array.shape[1])]\n",
    "    return pd.DataFrame(array, columns=cols)"
   ]
  },
  {
   "cell_type": "code",
   "execution_count": 19,
   "metadata": {},
   "outputs": [
    {
     "name": "stdout",
     "output_type": "stream",
     "text": [
      "generating Data for\n",
      "Stage 0: Contributer 0 mu=2.00, sig=5.00\n",
      "Stage 1: Contributer 0 mu=2.00, sig=1.00\n",
      "Stage 1: Contributer 1 mu=1.00, sig=1.00\n",
      "Stage 1: Contributer 2 mu=-1.00, sig=1.00\n",
      "Stage 1: Contributer 3 mu=0.00, sig=5.00\n",
      "Stage 1: Contributer 4 mu=-2.00, sig=2.00\n",
      "Stage 2: Contributer 0 mu=3.00, sig=1.00\n",
      "Stage 2: Contributer 1 mu=-1.00, sig=1.00\n",
      "Stage 2: Contributer 2 mu=1.00, sig=1.00\n",
      "Stage 2: Contributer 3 mu=0.00, sig=1.00\n",
      "Stage 2: Contributer 4 mu=-3.00, sig=3.00\n"
     ]
    },
    {
     "data": {
      "text/plain": [
       "\"\\nenc = OneHotEncoder(handle_unknown='ignore')\\nenc.fit(contributers)\\nX = enc.transform(contributers).toarray()\\nn_features = np.sum(n_contributers)\""
      ]
     },
     "execution_count": 19,
     "metadata": {},
     "output_type": "execute_result"
    }
   ],
   "source": [
    "n_samples = 10000\n",
    "\n",
    "cc_27 = [\n",
    "    {0: (2, 5)},\n",
    "    {0: (2, 1), 1: (-1, 1), 2: (-1, 1)},\n",
    "    {0: (3, 1), 1: (-1, 1), 2: (-1, 1), 3: (-1, 1)},\n",
    "]\n",
    "\n",
    "cc_27b = [\n",
    "    {0: (2, 5)},\n",
    "    {0: (2, 1), 1: (-1, 1), 2: (-1, 3)},\n",
    "    {0: (2, 1), 1: (-1, 1), 2: (-1, 1), 3: (0, 1)},\n",
    "]\n",
    "\n",
    "cc_2x = [\n",
    "    {0: (2, 5)},\n",
    "    {\n",
    "        0: (2, 1),\n",
    "        1: (1, 1),\n",
    "        2: (-1, 1),\n",
    "        3: (0, 5),\n",
    "        4: (-2, 2),\n",
    "    },\n",
    "    {0: (3, 1), 1: (-1, 1), 2: (1, 1), 3: (0, 1), 4: (-3, 3)},\n",
    "]\n",
    "\n",
    "\n",
    "y_data, x_data, n_contributers = generate(n_samples, contributer_coefficients=cc_2x)\n",
    "\"\"\"\n",
    "enc = OneHotEncoder(handle_unknown='ignore')\n",
    "enc.fit(contributers)\n",
    "X = enc.transform(contributers).toarray()\n",
    "n_features = np.sum(n_contributers)\"\"\""
   ]
  },
  {
   "cell_type": "code",
   "execution_count": 31,
   "metadata": {},
   "outputs": [
    {
     "data": {
      "text/plain": [
       "dtype('int64')"
      ]
     },
     "execution_count": 31,
     "metadata": {},
     "output_type": "execute_result"
    }
   ],
   "source": [
    "d = sm.datasets.get_rdataset(\"dietox\", \"geepack\").data\n",
    "d[\"Pig\"].dtype"
   ]
  },
  {
   "cell_type": "code",
   "execution_count": 38,
   "metadata": {},
   "outputs": [
    {
     "data": {
      "text/html": [
       "<div>\n",
       "<style scoped>\n",
       "    .dataframe tbody tr th:only-of-type {\n",
       "        vertical-align: middle;\n",
       "    }\n",
       "\n",
       "    .dataframe tbody tr th {\n",
       "        vertical-align: top;\n",
       "    }\n",
       "\n",
       "    .dataframe thead th {\n",
       "        text-align: right;\n",
       "    }\n",
       "</style>\n",
       "<table border=\"1\" class=\"dataframe\">\n",
       "  <thead>\n",
       "    <tr style=\"text-align: right;\">\n",
       "      <th></th>\n",
       "      <th>group_0</th>\n",
       "      <th>group_1</th>\n",
       "      <th>sum</th>\n",
       "      <th>baseline</th>\n",
       "    </tr>\n",
       "  </thead>\n",
       "  <tbody>\n",
       "    <tr>\n",
       "      <th>0</th>\n",
       "      <td>1</td>\n",
       "      <td>2</td>\n",
       "      <td>4.195875</td>\n",
       "      <td>1</td>\n",
       "    </tr>\n",
       "    <tr>\n",
       "      <th>1</th>\n",
       "      <td>3</td>\n",
       "      <td>0</td>\n",
       "      <td>23.066601</td>\n",
       "      <td>1</td>\n",
       "    </tr>\n",
       "    <tr>\n",
       "      <th>2</th>\n",
       "      <td>3</td>\n",
       "      <td>3</td>\n",
       "      <td>4.749189</td>\n",
       "      <td>1</td>\n",
       "    </tr>\n",
       "    <tr>\n",
       "      <th>3</th>\n",
       "      <td>3</td>\n",
       "      <td>3</td>\n",
       "      <td>5.158638</td>\n",
       "      <td>1</td>\n",
       "    </tr>\n",
       "    <tr>\n",
       "      <th>4</th>\n",
       "      <td>4</td>\n",
       "      <td>0</td>\n",
       "      <td>-12.311043</td>\n",
       "      <td>1</td>\n",
       "    </tr>\n",
       "    <tr>\n",
       "      <th>...</th>\n",
       "      <td>...</td>\n",
       "      <td>...</td>\n",
       "      <td>...</td>\n",
       "      <td>...</td>\n",
       "    </tr>\n",
       "    <tr>\n",
       "      <th>9995</th>\n",
       "      <td>4</td>\n",
       "      <td>1</td>\n",
       "      <td>-7.570059</td>\n",
       "      <td>1</td>\n",
       "    </tr>\n",
       "    <tr>\n",
       "      <th>9996</th>\n",
       "      <td>0</td>\n",
       "      <td>0</td>\n",
       "      <td>12.584144</td>\n",
       "      <td>1</td>\n",
       "    </tr>\n",
       "    <tr>\n",
       "      <th>9997</th>\n",
       "      <td>3</td>\n",
       "      <td>2</td>\n",
       "      <td>12.088368</td>\n",
       "      <td>1</td>\n",
       "    </tr>\n",
       "    <tr>\n",
       "      <th>9998</th>\n",
       "      <td>3</td>\n",
       "      <td>0</td>\n",
       "      <td>14.089029</td>\n",
       "      <td>1</td>\n",
       "    </tr>\n",
       "    <tr>\n",
       "      <th>9999</th>\n",
       "      <td>3</td>\n",
       "      <td>2</td>\n",
       "      <td>8.450505</td>\n",
       "      <td>1</td>\n",
       "    </tr>\n",
       "  </tbody>\n",
       "</table>\n",
       "<p>10000 rows × 4 columns</p>\n",
       "</div>"
      ],
      "text/plain": [
       "      group_0  group_1        sum  baseline\n",
       "0           1        2   4.195875         1\n",
       "1           3        0  23.066601         1\n",
       "2           3        3   4.749189         1\n",
       "3           3        3   5.158638         1\n",
       "4           4        0 -12.311043         1\n",
       "...       ...      ...        ...       ...\n",
       "9995        4        1  -7.570059         1\n",
       "9996        0        0  12.584144         1\n",
       "9997        3        2  12.088368         1\n",
       "9998        3        0  14.089029         1\n",
       "9999        3        2   8.450505         1\n",
       "\n",
       "[10000 rows x 4 columns]"
      ]
     },
     "execution_count": 38,
     "metadata": {},
     "output_type": "execute_result"
    }
   ],
   "source": [
    "data = to_df(x_data)\n",
    "data[\"sum\"] = y_data\n",
    "data[\"baseline\"] = 1\n",
    "data"
   ]
  },
  {
   "cell_type": "code",
   "execution_count": 34,
   "metadata": {},
   "outputs": [
    {
     "data": {
      "text/plain": [
       "<statsmodels.regression.mixed_linear_model.MixedLM at 0x2165fd679e0>"
      ]
     },
     "execution_count": 34,
     "metadata": {},
     "output_type": "execute_result"
    }
   ],
   "source": [
    "smf.mixedlm(\"Weight ~ Time\", d, groups=d[\"Pig\"])"
   ]
  },
  {
   "cell_type": "code",
   "execution_count": 48,
   "metadata": {},
   "outputs": [
    {
     "name": "stdout",
     "output_type": "stream",
     "text": [
      "          Mixed Linear Model Regression Results\n",
      "=========================================================\n",
      "Model:            MixedLM Dependent Variable: sum        \n",
      "No. Observations: 10000   Method:             REML       \n",
      "No. Groups:       5       Scale:              37.7636    \n",
      "Min. group size:  1906    Log-Likelihood:     -32356.9757\n",
      "Max. group size:  2090    Converged:          Yes        \n",
      "Mean group size:  2000.0                                 \n",
      "----------------------------------------------------------\n",
      "             Coef.  Std.Err.    z    P>|z|  [0.025  0.975]\n",
      "----------------------------------------------------------\n",
      "Intercept    1.902     0.659  2.887  0.004   0.611   3.193\n",
      "Group Var    2.151     0.250                              \n",
      "=========================================================\n",
      "\n"
     ]
    }
   ],
   "source": [
    "# md = smf.mixedlm(\"sum ~ baseline\", data, groups=data[[\"group_0\", \"group_1\"]].to_numpy())\n",
    "md = smf.mixedlm(\"sum ~ 1\", data, groups=data[\"group_0\"])\n",
    "mdf = md.fit()\n",
    "print(mdf.summary())\n"
   ]
  },
  {
   "cell_type": "markdown",
   "metadata": {},
   "source": [
    "# Conclusion\n",
    "Statsmodels does allow for one-level groups only"
   ]
  },
  {
   "cell_type": "code",
   "execution_count": 46,
   "metadata": {},
   "outputs": [
    {
     "data": {
      "text/plain": [
       "array([[1, 2],\n",
       "       [3, 0],\n",
       "       [3, 3],\n",
       "       ...,\n",
       "       [3, 2],\n",
       "       [3, 0],\n",
       "       [3, 2]])"
      ]
     },
     "execution_count": 46,
     "metadata": {},
     "output_type": "execute_result"
    }
   ],
   "source": [
    "data[[\"group_0\", \"group_1\"]].to_numpy()"
   ]
  },
  {
   "cell_type": "code",
   "execution_count": null,
   "metadata": {},
   "outputs": [],
   "source": []
  }
 ],
 "metadata": {
  "kernelspec": {
   "display_name": ".venv",
   "language": "python",
   "name": "python3"
  },
  "language_info": {
   "codemirror_mode": {
    "name": "ipython",
    "version": 3
   },
   "file_extension": ".py",
   "mimetype": "text/x-python",
   "name": "python",
   "nbconvert_exporter": "python",
   "pygments_lexer": "ipython3",
   "version": "3.12.1"
  }
 },
 "nbformat": 4,
 "nbformat_minor": 2
}
