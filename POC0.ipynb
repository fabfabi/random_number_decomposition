{
 "cells": [
  {
   "cell_type": "markdown",
   "metadata": {},
   "source": [
    "# PoC 0\n",
    "Concept: Do a super first step.\n",
    "\n",
    "Just identify what the mean and the stdev of some data is"
   ]
  },
  {
   "cell_type": "code",
   "execution_count": 1,
   "metadata": {},
   "outputs": [
    {
     "name": "stderr",
     "output_type": "stream",
     "text": [
      "c:\\Users\\fuerf\\AppData\\Local\\Programs\\Python\\Python312\\Lib\\site-packages\\tqdm\\auto.py:21: TqdmWarning: IProgress not found. Please update jupyter and ipywidgets. See https://ipywidgets.readthedocs.io/en/stable/user_install.html\n",
      "  from .autonotebook import tqdm as notebook_tqdm\n"
     ]
    }
   ],
   "source": [
    "import numpy as np\n",
    "import pandas as pd\n",
    "import pyro\n",
    "import pyro.distributions as dist\n",
    "import pyro.optim as optim\n",
    "import torch\n",
    "import os\n",
    "import matplotlib.pyplot as plt\n",
    "import pyro.distributions.constraints as constraints\n",
    "import logging\n",
    "import seaborn as sns\n",
    "\n",
    "%matplotlib inline\n",
    "plt.style.use('default')\n",
    "\n",
    "logging.basicConfig(format='%(message)s', level=logging.INFO)\n",
    "smoke_test = ('CI' in os.environ)"
   ]
  },
  {
   "cell_type": "code",
   "execution_count": 2,
   "metadata": {},
   "outputs": [],
   "source": [
    "mu = 1\n",
    "sig = 2\n",
    "n_samples = 10_000"
   ]
  },
  {
   "cell_type": "code",
   "execution_count": 21,
   "metadata": {},
   "outputs": [],
   "source": [
    "data_np = np.random.normal(mu, sig, n_samples)\n",
    "data = torch.tensor(data_np)\n"
   ]
  },
  {
   "cell_type": "code",
   "execution_count": 4,
   "metadata": {},
   "outputs": [],
   "source": [
    "def model(data):\n",
    "    sigma = pyro.param(\"sigma\", torch.tensor([1.]), constraint=constraints.positive)\n",
    "    mu = pyro.param(\"mu\", torch.tensor([0.]))\n",
    "\n",
    "    with pyro.plate(\"N\", len(data)):\n",
    "        return pyro.sample(\"obs\", dist.Normal(mu, sigma), obs=data)"
   ]
  },
  {
   "cell_type": "code",
   "execution_count": 5,
   "metadata": {},
   "outputs": [],
   "source": [
    "from pyro.infer.autoguide import AutoMultivariateNormal, init_to_mean\n",
    "from pyro.infer import SVI, Trace_ELBO\n",
    "from pyro.optim import Adam"
   ]
  },
  {
   "cell_type": "code",
   "execution_count": 6,
   "metadata": {},
   "outputs": [],
   "source": [
    "def get_svi(model):\n",
    "    guide = AutoMultivariateNormal(model, init_loc_fn=init_to_mean)\n",
    "    svi = SVI(model,\n",
    "            guide,\n",
    "            optim.Adam({\"lr\": .01}),\n",
    "            loss=Trace_ELBO())\n",
    "    return guide, svi"
   ]
  },
  {
   "cell_type": "code",
   "execution_count": 7,
   "metadata": {},
   "outputs": [],
   "source": [
    "def custom_guide(data=None):\n",
    "    sigma = pyro.param(\"sigma\", lambda: torch.tensor([1.]), constraint=constraints.positive)\n",
    "    mu = pyro.param(\"mu\", lambda: torch.tensor([0.]))\n",
    "\n",
    "    return {\"mu\": mu, \"sigma\": sigma}"
   ]
  },
  {
   "cell_type": "code",
   "execution_count": 8,
   "metadata": {},
   "outputs": [],
   "source": [
    "# setup the optimizer\n",
    "adam_params = {\"lr\": 0.0005, \"betas\": (0.90, 0.999)}\n",
    "optimizer = Adam(adam_params)\n",
    "\n",
    "# setup the inference algorithm\n",
    "svi = SVI(model, custom_guide, optimizer, loss=Trace_ELBO())"
   ]
  },
  {
   "cell_type": "code",
   "execution_count": 22,
   "metadata": {},
   "outputs": [
    {
     "name": "stdout",
     "output_type": "stream",
     "text": [
      "...................................................................................................."
     ]
    }
   ],
   "source": [
    "n_steps = 10000\n",
    "# do gradient steps\n",
    "for step in range(n_steps):\n",
    "    svi.step(data)\n",
    "    if step % 100 == 0:\n",
    "        print('.', end='')"
   ]
  },
  {
   "cell_type": "code",
   "execution_count": 23,
   "metadata": {},
   "outputs": [
    {
     "name": "stdout",
     "output_type": "stream",
     "text": [
      "bayesian: mu=0.9707101583480835, sigma=2.0084011554718018\n",
      "Check: mu=0.9707101158522659, sigma=2.008401068345451\n"
     ]
    }
   ],
   "source": [
    "# grab the learned variational parameters\n",
    "mu = pyro.param(\"mu\").item()\n",
    "sigma = pyro.param(\"sigma\").item()\n",
    "\n",
    "print(f\"bayesian: mu={mu}, sigma={sigma}\")\n",
    "print(f\"Check: mu={np.mean(data_np)}, sigma={np.std(data_np)}\")"
   ]
  }
 ],
 "metadata": {
  "kernelspec": {
   "display_name": "Python 3",
   "language": "python",
   "name": "python3"
  },
  "language_info": {
   "codemirror_mode": {
    "name": "ipython",
    "version": 3
   },
   "file_extension": ".py",
   "mimetype": "text/x-python",
   "name": "python",
   "nbconvert_exporter": "python",
   "pygments_lexer": "ipython3",
   "version": "3.12.1"
  }
 },
 "nbformat": 4,
 "nbformat_minor": 2
}
