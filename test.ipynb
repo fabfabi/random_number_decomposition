{
 "cells": [
  {
   "cell_type": "code",
   "execution_count": 1,
   "metadata": {},
   "outputs": [],
   "source": [
    "import numpy as np\n",
    "import scipy"
   ]
  },
  {
   "cell_type": "code",
   "execution_count": 2,
   "metadata": {},
   "outputs": [],
   "source": [
    "data = [1.4943494992895578,0.5769536064715798,0.3149033083265545,1.269732163578519,0.2813366747955667,1.001479518497029,0.7021766654199879,2.243554270691174,1.4781938165307542,0.3298295025703022,1.061610363524014,0.8151904835943997,1.1050816804713457,3.380399241581187,1.345369208717488,3.622572495940986,0.8994948134045655,4.0468444208208005,0.21386373015755133,0.45252718286987076]"
   ]
  },
  {
   "cell_type": "code",
   "execution_count": 3,
   "metadata": {},
   "outputs": [],
   "source": [
    "la = 2\n",
    "a = 2\n",
    "f = lambda x: la *np.power(-np.log(x), 1/a)"
   ]
  },
  {
   "cell_type": "code",
   "execution_count": 4,
   "metadata": {},
   "outputs": [
    {
     "data": {
      "text/plain": [
       "array([0.54199787, 1.50922404, 2.18409044, 1.46121127, 2.3346654 ,\n",
       "       5.35738224, 1.74972001, 1.47100769, 2.79869621, 2.20092446,\n",
       "       1.57474238, 1.36454239, 1.75623056, 0.63274343, 3.68876069,\n",
       "       0.32559848, 1.53851738, 0.97985547, 1.4004298 , 2.07786194])"
      ]
     },
     "execution_count": 4,
     "metadata": {},
     "output_type": "execute_result"
    }
   ],
   "source": [
    "data = 2*np.random.weibull(2, 20)\n",
    "data"
   ]
  },
  {
   "cell_type": "code",
   "execution_count": 5,
   "metadata": {},
   "outputs": [
    {
     "data": {
      "text/plain": [
       "array([ 1.08399574,  3.01844808,  4.36818088,  2.92242255,  4.66933081,\n",
       "       10.71476449,  3.49944003,  2.94201537,  5.59739243,  4.40184892,\n",
       "        3.14948476,  2.72908477,  3.51246111,  1.26548685,  7.37752139,\n",
       "        0.65119696,  3.07703477,  1.95971095,  2.8008596 ,  4.15572389])"
      ]
     },
     "execution_count": 5,
     "metadata": {},
     "output_type": "execute_result"
    }
   ],
   "source": [
    "d = 2 * data\n",
    "d"
   ]
  },
  {
   "cell_type": "code",
   "execution_count": 6,
   "metadata": {},
   "outputs": [
    {
     "name": "stderr",
     "output_type": "stream",
     "text": [
      "C:\\Users\\fuerf\\AppData\\Local\\Temp\\ipykernel_2028\\1743451294.py:3: RuntimeWarning: invalid value encountered in power\n",
      "  f = lambda x: la *np.power(-np.log(x), 1/a)\n"
     ]
    },
    {
     "data": {
      "text/plain": [
       "nan"
      ]
     },
     "execution_count": 6,
     "metadata": {},
     "output_type": "execute_result"
    }
   ],
   "source": [
    "f(2)"
   ]
  },
  {
   "cell_type": "code",
   "execution_count": 7,
   "metadata": {},
   "outputs": [
    {
     "name": "stderr",
     "output_type": "stream",
     "text": [
      "C:\\Users\\fuerf\\AppData\\Local\\Temp\\ipykernel_2028\\1743451294.py:3: RuntimeWarning: invalid value encountered in power\n",
      "  f = lambda x: la *np.power(-np.log(x), 1/a)\n"
     ]
    },
    {
     "data": {
      "text/plain": [
       "array([     nan,      nan,      nan,      nan,      nan,      nan,\n",
       "            nan,      nan,      nan,      nan,      nan,      nan,\n",
       "            nan,      nan,      nan, 1.309875,      nan,      nan,\n",
       "            nan,      nan])"
      ]
     },
     "execution_count": 7,
     "metadata": {},
     "output_type": "execute_result"
    }
   ],
   "source": [
    "f(d)"
   ]
  },
  {
   "cell_type": "code",
   "execution_count": 8,
   "metadata": {},
   "outputs": [
    {
     "data": {
      "text/plain": [
       "8"
      ]
     },
     "execution_count": 8,
     "metadata": {},
     "output_type": "execute_result"
    }
   ],
   "source": [
    "np.power(2, 3)"
   ]
  },
  {
   "cell_type": "code",
   "execution_count": 9,
   "metadata": {},
   "outputs": [],
   "source": [
    "d_22 = [0.7851163214901727,3.176465295448296,2.0436461244766355,0.7292763029798089,1.0116570138935275,1.0979162477584126,0.546531160795282,4.231846006435566,2.8815172278886383,1.762190546474031,2.8010921857901034,1.0161088338122055,1.5905643295373884,2.1283026189538523,2.4062004455607333,2.0728254814708054,3.2548374123564505,3.1678904571745456,2.5800108111032127,0.41861001196871234]"
   ]
  },
  {
   "cell_type": "code",
   "execution_count": 10,
   "metadata": {},
   "outputs": [],
   "source": [
    "c, loc, scale = scipy.stats.weibull_min.fit(d_22)"
   ]
  },
  {
   "cell_type": "code",
   "execution_count": 11,
   "metadata": {},
   "outputs": [],
   "source": [
    "k = 1/c\n",
    "la = scale ** k"
   ]
  },
  {
   "cell_type": "code",
   "execution_count": 12,
   "metadata": {},
   "outputs": [
    {
     "data": {
      "text/plain": [
       "0.6419669442411073"
      ]
     },
     "execution_count": 12,
     "metadata": {},
     "output_type": "execute_result"
    }
   ],
   "source": [
    "k"
   ]
  },
  {
   "cell_type": "code",
   "execution_count": 13,
   "metadata": {},
   "outputs": [
    {
     "data": {
      "text/plain": [
       "1.4946855913140311"
      ]
     },
     "execution_count": 13,
     "metadata": {},
     "output_type": "execute_result"
    }
   ],
   "source": [
    "la"
   ]
  },
  {
   "cell_type": "code",
   "execution_count": 14,
   "metadata": {},
   "outputs": [],
   "source": [
    "d_22 = scipy.stats.weibull_min.rvs(c=2, scale=2, size=20)\n",
    "d_22 = [1.27130156, 1.73100356, 0.91877032, 1.15029063, 0.79690807,\n",
    "       0.82320322, 1.73468943, 1.27893022, 1.63603186, 1.3315046 ,\n",
    "       1.39260357, 2.66624242, 3.21606522, 0.88658399, 1.71932343,\n",
    "       1.28004802, 2.76046916, 1.80980035, 3.14431371, 2.05362395]\n",
    "# by julia this gets fitted to Weibull{Float64}(α=2.483992637042323, θ=1.9014217748275557)"
   ]
  },
  {
   "cell_type": "code",
   "execution_count": 15,
   "metadata": {},
   "outputs": [
    {
     "name": "stdout",
     "output_type": "stream",
     "text": [
      "c=0.7059788852600504 loc=0.7969080699999999 scale=1.0457784901373914\n",
      "lambda=1.41647295815603 k=0.7059788852600504\n"
     ]
    }
   ],
   "source": [
    "c, loc, scale = scipy.stats.weibull_min.fit(d_22)\n",
    "#d_22_t = np.power(d_22, )\n",
    "la = 1/c\n",
    "k = c\n",
    "print(f\"c={c} loc={loc} scale={scale}\")\n",
    "print(f\"lambda={la} k={k}\")"
   ]
  },
  {
   "cell_type": "code",
   "execution_count": null,
   "metadata": {},
   "outputs": [],
   "source": [
    "c, loc, scale = scipy.stats.weibull_min.fit(d_22)\n",
    "#d_22_t = np.power(d_22, )\n",
    "k = 1/c\n",
    "la = scale ** k\n",
    "print(f\"c={c} loc={loc} scale={scale}\")\n",
    "print(f\"lambda={la} k={k}\")"
   ]
  },
  {
   "cell_type": "code",
   "execution_count": null,
   "metadata": {},
   "outputs": [],
   "source": [
    "d_jl (generiert)"
   ]
  },
  {
   "cell_type": "code",
   "execution_count": 36,
   "metadata": {},
   "outputs": [
    {
     "data": {
      "text/plain": [
       "(1.9823208539538093, 0.00026504308289985155, 1.9955926622676194)"
      ]
     },
     "execution_count": 36,
     "metadata": {},
     "output_type": "execute_result"
    }
   ],
   "source": [
    "scipy.stats.weibull_min.fit(scipy.stats.weibull_min.rvs(c=2, scale=2, size=20000))"
   ]
  },
  {
   "cell_type": "code",
   "execution_count": 37,
   "metadata": {},
   "outputs": [],
   "source": [
    "k = 1/c\n",
    "la = scale ** k"
   ]
  },
  {
   "cell_type": "code",
   "execution_count": null,
   "metadata": {},
   "outputs": [],
   "source": []
  }
 ],
 "metadata": {
  "kernelspec": {
   "display_name": "Python 3",
   "language": "python",
   "name": "python3"
  },
  "language_info": {
   "codemirror_mode": {
    "name": "ipython",
    "version": 3
   },
   "file_extension": ".py",
   "mimetype": "text/x-python",
   "name": "python",
   "nbconvert_exporter": "python",
   "pygments_lexer": "ipython3",
   "version": "3.12.1"
  }
 },
 "nbformat": 4,
 "nbformat_minor": 2
}
