{
 "cells": [
  {
   "cell_type": "code",
   "execution_count": 1,
   "metadata": {},
   "outputs": [],
   "source": [
    "using Distributions"
   ]
  },
  {
   "cell_type": "code",
   "execution_count": 17,
   "metadata": {},
   "outputs": [
    {
     "data": {
      "text/plain": [
       "Weibull{Float64}(α=1.0, θ=1.0)"
      ]
     },
     "metadata": {},
     "output_type": "display_data"
    }
   ],
   "source": [
    "Weibull()"
   ]
  },
  {
   "cell_type": "code",
   "execution_count": 33,
   "metadata": {},
   "outputs": [
    {
     "data": {
      "text/plain": [
       "20-element Vector{Float64}:\n",
       " 0.7851163214901727\n",
       " 3.176465295448296\n",
       " 2.0436461244766355\n",
       " 0.7292763029798089\n",
       " 1.0116570138935275\n",
       " 1.0979162477584126\n",
       " 0.546531160795282\n",
       " 4.231846006435566\n",
       " 2.8815172278886383\n",
       " 1.762190546474031\n",
       " 2.8010921857901034\n",
       " 1.0161088338122055\n",
       " 1.5905643295373884\n",
       " 2.1283026189538523\n",
       " 2.4062004455607333\n",
       " 2.0728254814708054\n",
       " 3.2548374123564505\n",
       " 3.1678904571745456\n",
       " 2.5800108111032127\n",
       " 0.41861001196871234"
      ]
     },
     "metadata": {},
     "output_type": "display_data"
    }
   ],
   "source": [
    "a = rand(Weibull(2,2), 20)\n",
    "a"
   ]
  },
  {
   "cell_type": "code",
   "execution_count": 15,
   "metadata": {},
   "outputs": [
    {
     "data": {
      "text/plain": [
       "vec2str (generic function with 1 method)"
      ]
     },
     "metadata": {},
     "output_type": "display_data"
    }
   ],
   "source": [
    "function vec2str(v)\n",
    "    \"[\" * join(v, \",\") * \"]\"\n",
    "end"
   ]
  },
  {
   "cell_type": "code",
   "execution_count": 34,
   "metadata": {},
   "outputs": [
    {
     "data": {
      "text/plain": [
       "\"[0.7851163214901727,3.176465295448296,2.0436461244766355,0.7292763029798089,1.0116570138935275,1.0979162477584126,0.546531160795282,4.231846006435566,2.8815172278886383,1.762190546474031,2.8010921857901034,1.0161088338122055,1.5905643295373884,2.1283026189538523,2.4062004455607333,2.0728254814708054,3.2548374123564505,3.1678904571745456,2.5800108111032127,0.41861001196871234]\""
      ]
     },
     "metadata": {},
     "output_type": "display_data"
    }
   ],
   "source": [
    "vec2str(a)"
   ]
  },
  {
   "cell_type": "code",
   "execution_count": 36,
   "metadata": {},
   "outputs": [
    {
     "data": {
      "text/plain": [
       "Weibull{Float64}(α=2.483992637042323, θ=1.9014217748275557)"
      ]
     },
     "metadata": {},
     "output_type": "display_data"
    }
   ],
   "source": [
    "data = [1.27130156, 1.73100356, 0.91877032, 1.15029063, 0.79690807,\n",
    "0.82320322, 1.73468943, 1.27893022, 1.63603186, 1.3315046 ,\n",
    "1.39260357, 2.66624242, 3.21606522, 0.88658399, 1.71932343,\n",
    "1.28004802, 2.76046916, 1.80980035, 3.14431371, 2.05362395]\n",
    "\n",
    "fit(Weibull, data)"
   ]
  },
  {
   "cell_type": "markdown",
   "metadata": {},
   "source": []
  },
  {
   "cell_type": "code",
   "execution_count": 35,
   "metadata": {},
   "outputs": [
    {
     "data": {
      "text/plain": [
       "Weibull{Float64}(α=1.9941029480531947, θ=2.243043779081156)"
      ]
     },
     "metadata": {},
     "output_type": "display_data"
    }
   ],
   "source": [
    "fit(Weibull, a)"
   ]
  },
  {
   "cell_type": "code",
   "execution_count": null,
   "metadata": {},
   "outputs": [],
   "source": []
  }
 ],
 "metadata": {
  "kernelspec": {
   "display_name": "Julia 1.10.0",
   "language": "julia",
   "name": "julia-1.10"
  },
  "language_info": {
   "file_extension": ".jl",
   "mimetype": "application/julia",
   "name": "julia",
   "version": "1.10.0"
  }
 },
 "nbformat": 4,
 "nbformat_minor": 2
}
