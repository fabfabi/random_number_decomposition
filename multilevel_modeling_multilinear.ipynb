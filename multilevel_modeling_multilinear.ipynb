{
 "cells": [
  {
   "cell_type": "markdown",
   "metadata": {},
   "source": [
    "# [Multilevel Modeling](https://en.wikipedia.org/wiki/Multilevel_model)\n",
    "Idea: Decompose the sum of random numbers into its contributions\n",
    "\n",
    "for a given set of $x_i$ and $a_{ik}$ with\n",
    "$$x_i = \\Sigma_{j=0}^n \\Sigma_{k=1}^{m_j} a_{ik}y_{jk}$$ \n",
    "with\n",
    "* $m_j$ being the number of contributers of layer j\n",
    "* $y_{jk}$ being the k-th contribution of layer j\n",
    "* $m_0 = 1$ by default\n",
    "* $a_{ik} \\in \\{0, 1\\}$\n",
    "* $\\Sigma a_{ik} = 1$ only one contributer per layer\n",
    "\n",
    "calculate the Distributions $y_{k} \\sim N(μ_{k}, σ_{k})$\n",
    "Boundary conditions:\n",
    "* $\\Sigma _{k} μ_k = 0$ via $μ_{m_j} = -\\Sigma_{k = 1}^{m_j-1} μ_{k}$\n",
    "\n",
    "\n",
    "Goal of this workbook to gather the basics\n",
    "* which package to use\n",
    "* how to solve\n",
    "* how to model\n",
    "\n",
    "Answerː Use pymc with nutpie as a solver :-)"
   ]
  },
  {
   "cell_type": "code",
   "execution_count": 2,
   "metadata": {},
   "outputs": [],
   "source": [
    "import numpy as np\n",
    "import warnings\n",
    "import matplotlib.pyplot as plt\n",
    "import polars as pl\n",
    "\n",
    "from sklearn.linear_model import BayesianRidge\n",
    "from sklearn.preprocessing import OneHotEncoder\n",
    "from sklearn.pipeline import Pipeline\n",
    "\n",
    "%matplotlib inline\n",
    "plt.style.use(\"default\")\n"
   ]
  },
  {
   "cell_type": "markdown",
   "metadata": {},
   "source": [
    "## Initialize the data"
   ]
  },
  {
   "cell_type": "code",
   "execution_count": 3,
   "metadata": {},
   "outputs": [],
   "source": [
    "n_samples = 10000"
   ]
  },
  {
   "cell_type": "markdown",
   "metadata": {},
   "source": [
    "## setup the individual random generators"
   ]
  },
  {
   "cell_type": "code",
   "execution_count": 4,
   "metadata": {},
   "outputs": [],
   "source": [
    "def align_coefficients(coefs):\n",
    "    \"\"\"ensure that the average over all contributers per level is 0\"\"\"\n",
    "    mem = {}\n",
    "    for level, lcoefs in coefs.items():\n",
    "        avg = np.mean([m for (m, s) in lcoefs.values()])\n",
    "        mem[level] = {k: (m - avg, s) for k, (m, s) in lcoefs.items()}\n",
    "\n",
    "    return mem\n",
    "\n",
    "\n",
    "def gen_contributer_coefficients(n_contributers, contributer_avg, contributer_sig):\n",
    "    \"\"\"creates for n_contributers the average and standard deviation\n",
    "    Input:\n",
    "    * n_contributers: list with number of influencers for each level\n",
    "    * contributer_avg: average for the average of the influencers\n",
    "    * contributer_sig: average for the stdev for the influencers (lognormal distribution)\n",
    "\n",
    "    Output:\n",
    "    Dictionary {level : { influencer: (mu, sigma)}} with the coefficients for every\n",
    "    influencer in each level\n",
    "    \"\"\"\n",
    "    # assert n_contributers[0] == 1, \"First level is allowed to have one contributer\"\n",
    "    return align_coefficients(\n",
    "        {\n",
    "            lvl: {\n",
    "                i: (\n",
    "                    np.random.normal(contributer_avg),\n",
    "                    np.random.lognormal(contributer_sig),\n",
    "                )\n",
    "                for i in range(num)\n",
    "            }\n",
    "            for lvl, num in enumerate(n_contributers)\n",
    "        }\n",
    "    )\n",
    "\n",
    "\n",
    "def print_coefficients(contributer_coefficients):\n",
    "    contributer_coefficients = align_coefficients(contributer_coefficients)\n",
    "    for m, stage in contributer_coefficients.items():\n",
    "        for i, (mu, sig) in stage.items():\n",
    "            print(f\"Stage {m}: Contributer {i} mu={mu:.2f}, sig={sig:.2f}\")"
   ]
  },
  {
   "cell_type": "code",
   "execution_count": 5,
   "metadata": {},
   "outputs": [],
   "source": [
    "# easy as a start\n",
    "cc_02 = {0: {0: (0, 5)}, 1: {0: (0, 1), 1: (0, 1), 2: (0, 1), 3: (4, 2)}}\n",
    "cc_01 = {0: {0: (0, 5)}, 1: {0: (1, 1), 1: (-1, 1)}}"
   ]
  },
  {
   "cell_type": "code",
   "execution_count": 6,
   "metadata": {},
   "outputs": [
    {
     "name": "stdout",
     "output_type": "stream",
     "text": [
      "Stage 0: Contributer 0 mu=0.00, sig=5.00\n",
      "Stage 1: Contributer 0 mu=-1.00, sig=1.00\n",
      "Stage 1: Contributer 1 mu=-1.00, sig=1.00\n",
      "Stage 1: Contributer 2 mu=-1.00, sig=1.00\n",
      "Stage 1: Contributer 3 mu=3.00, sig=2.00\n"
     ]
    }
   ],
   "source": [
    "print_coefficients(cc_02)"
   ]
  },
  {
   "cell_type": "markdown",
   "metadata": {},
   "source": [
    "## Create the Data"
   ]
  },
  {
   "cell_type": "code",
   "execution_count": 7,
   "metadata": {},
   "outputs": [],
   "source": [
    "def gen_data(contributer_coefficients, n_samples):\n",
    "    \"\"\"generate random data.\n",
    "    The first level defines the baseline that holds for all random numbers\n",
    "\n",
    "    Inputs:\n",
    "    * n_samples: number of samples\n",
    "    * contributer_coefficients: dictionary with (mean,sig) per level per contributer\n",
    "\n",
    "    Outputs:\n",
    "    * data: array with the final number\n",
    "    * contributers: matrix defining the contributers, first column is for the first level\"\"\"\n",
    "\n",
    "    # data = np.random.normal(gen_avg, gen_sig, n_samples)\n",
    "    data = np.zeros((n_samples,))\n",
    "    contributers = np.zeros((n_samples, len(contributer_coefficients)))\n",
    "    for lvl, cdict in contributer_coefficients.items():\n",
    "        print(f\"creating level {lvl}\")\n",
    "        lvl_influencers = len(cdict)  # number of influencers in this level\n",
    "        lvldata = np.zeros((n_samples, lvl_influencers))\n",
    "\n",
    "        for i, (mu, sig) in cdict.items():\n",
    "            lvldata[:, i] = np.random.normal(mu, sig, n_samples)\n",
    "\n",
    "        selection = np.random.randint(low=0, high=lvl_influencers, size=(n_samples))\n",
    "        contributers[:, lvl] = selection\n",
    "\n",
    "        data += np.array([lvldata[row, col] for row, col in enumerate(selection)])\n",
    "        # Note: The first level\n",
    "    return data, contributers.astype(int)"
   ]
  },
  {
   "cell_type": "markdown",
   "metadata": {},
   "source": [
    "# Modeling\n",
    "\n",
    "use [Radon Analysis](https://www.pymc.io/projects/examples/en/latest/generalized_linear_models/multilevel_modeling.html) as reference"
   ]
  },
  {
   "cell_type": "code",
   "execution_count": 10,
   "metadata": {},
   "outputs": [],
   "source": [
    "n_contributers = [2, 3, 5, 10, 10]"
   ]
  },
  {
   "cell_type": "code",
   "execution_count": 11,
   "metadata": {},
   "outputs": [
    {
     "name": "stdout",
     "output_type": "stream",
     "text": [
      "creating level 0\n",
      "creating level 1\n"
     ]
    }
   ],
   "source": [
    "# generate the data\n",
    "data, contributers = gen_data(n_samples=n_samples, contributer_coefficients=cc_01)"
   ]
  },
  {
   "cell_type": "code",
   "execution_count": 12,
   "metadata": {},
   "outputs": [],
   "source": [
    "pipe = Pipeline(\n",
    "    [\n",
    "        (\"ohe\", OneHotEncoder(sparse_output=False)),\n",
    "        (\"regression\", BayesianRidge(fit_intercept=False)),\n",
    "    ]\n",
    ")\n",
    "pipe.fit(contributers, data)\n",
    "\n",
    "df = pl.DataFrame"
   ]
  },
  {
   "cell_type": "code",
   "execution_count": 13,
   "metadata": {},
   "outputs": [
    {
     "data": {
      "text/plain": [
       "array(['x0_0', 'x1_0', 'x1_1'], dtype=object)"
      ]
     },
     "execution_count": 13,
     "metadata": {},
     "output_type": "execute_result"
    }
   ],
   "source": [
    "pipe[0].get_feature_names_out()"
   ]
  },
  {
   "cell_type": "code",
   "execution_count": 14,
   "metadata": {},
   "outputs": [
    {
     "data": {
      "text/plain": [
       "array([-0.02040709,  0.9998263 , -1.0202334 ])"
      ]
     },
     "execution_count": 14,
     "metadata": {},
     "output_type": "execute_result"
    }
   ],
   "source": [
    "pipe[1].coef_"
   ]
  },
  {
   "cell_type": "code",
   "execution_count": 35,
   "metadata": {},
   "outputs": [
    {
     "data": {
      "text/html": [
       "<div><style>\n",
       ".dataframe > thead > tr,\n",
       ".dataframe > tbody > tr {\n",
       "  text-align: right;\n",
       "  white-space: pre-wrap;\n",
       "}\n",
       "</style>\n",
       "<small>shape: (3, 5)</small><table border=\"1\" class=\"dataframe\"><thead><tr><th>parameter</th><th>value</th><th>splits</th><th>level</th><th>con</th></tr><tr><td>str</td><td>f64</td><td>list[str]</td><td>str</td><td>str</td></tr></thead><tbody><tr><td>&quot;x0_0&quot;</td><td>-0.020407</td><td>[&quot;x0&quot;, &quot;0&quot;]</td><td>&quot;x0&quot;</td><td>&quot;0&quot;</td></tr><tr><td>&quot;x1_0&quot;</td><td>0.999826</td><td>[&quot;x1&quot;, &quot;0&quot;]</td><td>&quot;x1&quot;</td><td>&quot;0&quot;</td></tr><tr><td>&quot;x1_1&quot;</td><td>-1.020233</td><td>[&quot;x1&quot;, &quot;1&quot;]</td><td>&quot;x1&quot;</td><td>&quot;1&quot;</td></tr></tbody></table></div>"
      ],
      "text/plain": [
       "shape: (3, 5)\n",
       "┌───────────┬───────────┬─────────────┬───────┬─────┐\n",
       "│ parameter ┆ value     ┆ splits      ┆ level ┆ con │\n",
       "│ ---       ┆ ---       ┆ ---         ┆ ---   ┆ --- │\n",
       "│ str       ┆ f64       ┆ list[str]   ┆ str   ┆ str │\n",
       "╞═══════════╪═══════════╪═════════════╪═══════╪═════╡\n",
       "│ x0_0      ┆ -0.020407 ┆ [\"x0\", \"0\"] ┆ x0    ┆ 0   │\n",
       "│ x1_0      ┆ 0.999826  ┆ [\"x1\", \"0\"] ┆ x1    ┆ 0   │\n",
       "│ x1_1      ┆ -1.020233 ┆ [\"x1\", \"1\"] ┆ x1    ┆ 1   │\n",
       "└───────────┴───────────┴─────────────┴───────┴─────┘"
      ]
     },
     "execution_count": 35,
     "metadata": {},
     "output_type": "execute_result"
    }
   ],
   "source": [
    "df = (\n",
    "    pl.DataFrame({\"parameter\": pipe[0].get_feature_names_out(), \"value\": pipe[1].coef_})\n",
    "    .with_columns(pl.col(\"parameter\").str.split(\"_\").alias(\"splits\"))\n",
    "    .with_columns(\n",
    "        pl.col(\"splits\").list.first().alias(\"level\"),\n",
    "        pl.col(\"splits\").list.last().alias(\"con\"),\n",
    "    )\n",
    "    .drop(\"splits\")\n",
    ")\n",
    "\n",
    "df"
   ]
  },
  {
   "cell_type": "code",
   "execution_count": 16,
   "metadata": {},
   "outputs": [
    {
     "data": {
      "text/html": [
       "<div><style>\n",
       ".dataframe > thead > tr,\n",
       ".dataframe > tbody > tr {\n",
       "  text-align: right;\n",
       "  white-space: pre-wrap;\n",
       "}\n",
       "</style>\n",
       "<small>shape: (3, 2)</small><table border=\"1\" class=\"dataframe\"><thead><tr><th>parameter</th><th>value</th></tr><tr><td>str</td><td>f64</td></tr></thead><tbody><tr><td>&quot;x0_0&quot;</td><td>-0.020407</td></tr><tr><td>&quot;x1_0&quot;</td><td>0.999826</td></tr><tr><td>&quot;x1_1&quot;</td><td>-1.020233</td></tr></tbody></table></div>"
      ],
      "text/plain": [
       "shape: (3, 2)\n",
       "┌───────────┬───────────┐\n",
       "│ parameter ┆ value     │\n",
       "│ ---       ┆ ---       │\n",
       "│ str       ┆ f64       │\n",
       "╞═══════════╪═══════════╡\n",
       "│ x0_0      ┆ -0.020407 │\n",
       "│ x1_0      ┆ 0.999826  │\n",
       "│ x1_1      ┆ -1.020233 │\n",
       "└───────────┴───────────┘"
      ]
     },
     "execution_count": 16,
     "metadata": {},
     "output_type": "execute_result"
    }
   ],
   "source": [
    "df"
   ]
  },
  {
   "cell_type": "code",
   "execution_count": null,
   "metadata": {},
   "outputs": [],
   "source": []
  }
 ],
 "metadata": {
  "kernelspec": {
   "display_name": "Python 3",
   "language": "python",
   "name": "python3"
  },
  "language_info": {
   "codemirror_mode": {
    "name": "ipython",
    "version": 3
   },
   "file_extension": ".py",
   "mimetype": "text/x-python",
   "name": "python",
   "nbconvert_exporter": "python",
   "pygments_lexer": "ipython3",
   "version": "3.12.1"
  }
 },
 "nbformat": 4,
 "nbformat_minor": 2
}
