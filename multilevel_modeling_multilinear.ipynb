{
 "cells": [
  {
   "cell_type": "markdown",
   "metadata": {},
   "source": [
    "# [Multilevel Modeling](https://en.wikipedia.org/wiki/Multilevel_model)\n",
    "Idea: Decompose the sum of random numbers into its contributions\n",
    "\n",
    "for a given set of $x_i$ and $a_{ik}$ with\n",
    "$$x_i = \\Sigma_{j=0}^n \\Sigma_{k=1}^{m_j} a_{ik}y_{jk}$$ \n",
    "with\n",
    "* $m_j$ being the number of contributers of layer j\n",
    "* $y_{jk}$ being the k-th contribution of layer j\n",
    "* $m_0 = 1$ by default\n",
    "* $a_{ik} \\in \\{0, 1\\}$\n",
    "* $\\Sigma a_{ik} = 1$ only one contributer per layer\n",
    "\n",
    "calculate the Distributions $y_{k} \\sim N(μ_{k}, σ_{k})$\n",
    "Boundary conditions:\n",
    "* $\\Sigma _{k} μ_k = 0$ via $μ_{m_j} = -\\Sigma_{k = 1}^{m_j-1} μ_{k}$\n",
    "\n",
    "\n",
    "Goal of this workbook to gather the basics\n",
    "* which package to use\n",
    "* how to solve\n",
    "* how to model\n",
    "\n",
    "Answerː Use pymc with nutpie as a solver :-)"
   ]
  },
  {
   "cell_type": "code",
   "execution_count": 14,
   "metadata": {},
   "outputs": [],
   "source": [
    "import numpy as np\n",
    "import warnings\n",
    "import matplotlib.pyplot as plt\n",
    "import polars as pl\n",
    "\n",
    "from sklearn.linear_model import BayesianRidge\n",
    "from sklearn.preprocessing import OneHotEncoder\n",
    "from sklearn.pipeline import Pipeline\n",
    "\n",
    "from dash import Dash, html, dcc\n",
    "from dash.dependencies import Input, Output, State\n",
    "import plotly.express as px\n",
    "\n",
    "%matplotlib inline\n",
    "plt.style.use(\"default\")\n"
   ]
  },
  {
   "cell_type": "markdown",
   "metadata": {},
   "source": [
    "## Initialize the data"
   ]
  },
  {
   "cell_type": "markdown",
   "metadata": {},
   "source": [
    "## setup the individual random generators"
   ]
  },
  {
   "cell_type": "code",
   "execution_count": 2,
   "metadata": {},
   "outputs": [],
   "source": [
    "def align_coefficients(coefs):\n",
    "    \"\"\"ensure that the average over all contributers per level is 0\"\"\"\n",
    "    mem = {}\n",
    "    for level, lcoefs in coefs.items():\n",
    "        avg = np.mean([m for (m, s) in lcoefs.values()])\n",
    "        mem[level] = {k: (m - avg, s) for k, (m, s) in lcoefs.items()}\n",
    "\n",
    "    return mem\n",
    "\n",
    "\n",
    "def gen_contributer_coefficients(n_contributers, contributer_avg, contributer_sig):\n",
    "    \"\"\"creates for n_contributers the average and standard deviation\n",
    "    Input:\n",
    "    * n_contributers: list with number of influencers for each level\n",
    "    * contributer_avg: average for the average of the influencers\n",
    "    * contributer_sig: average for the stdev for the influencers (lognormal distribution)\n",
    "\n",
    "    Output:\n",
    "    Dictionary {level : { influencer: (mu, sigma)}} with the coefficients for every\n",
    "    influencer in each level\n",
    "    \"\"\"\n",
    "    # assert n_contributers[0] == 1, \"First level is allowed to have one contributer\"\n",
    "    return align_coefficients(\n",
    "        {\n",
    "            lvl: {\n",
    "                i: (\n",
    "                    np.random.normal(contributer_avg),\n",
    "                    np.random.lognormal(contributer_sig),\n",
    "                )\n",
    "                for i in range(num)\n",
    "            }\n",
    "            for lvl, num in enumerate(n_contributers)\n",
    "        }\n",
    "    )\n",
    "\n",
    "\n",
    "def print_coefficients(contributer_coefficients):\n",
    "    contributer_coefficients = align_coefficients(contributer_coefficients)\n",
    "    for m, stage in contributer_coefficients.items():\n",
    "        for i, (mu, sig) in stage.items():\n",
    "            print(f\"Stage {m}: Contributer {i} mu={mu:.2f}, sig={sig:.2f}\")"
   ]
  },
  {
   "cell_type": "code",
   "execution_count": 3,
   "metadata": {},
   "outputs": [],
   "source": [
    "# easy as a start\n",
    "cc_02 = {0: {0: (0, 5)}, 1: {0: (0, 1), 1: (0, 1), 2: (0, 1), 3: (4, 2)}}\n",
    "cc_01 = {0: {0: (0, 5)}, 1: {0: (1, 1), 1: (-1, 1)}}"
   ]
  },
  {
   "cell_type": "code",
   "execution_count": 4,
   "metadata": {},
   "outputs": [
    {
     "name": "stdout",
     "output_type": "stream",
     "text": [
      "Stage 0: Contributer 0 mu=0.00, sig=5.00\n",
      "Stage 1: Contributer 0 mu=-1.00, sig=1.00\n",
      "Stage 1: Contributer 1 mu=-1.00, sig=1.00\n",
      "Stage 1: Contributer 2 mu=-1.00, sig=1.00\n",
      "Stage 1: Contributer 3 mu=3.00, sig=2.00\n"
     ]
    }
   ],
   "source": [
    "print_coefficients(cc_02)"
   ]
  },
  {
   "cell_type": "markdown",
   "metadata": {},
   "source": [
    "## Create the Data"
   ]
  },
  {
   "cell_type": "code",
   "execution_count": 5,
   "metadata": {},
   "outputs": [],
   "source": [
    "def gen_data(contributer_coefficients, n_samples):\n",
    "    \"\"\"generate random data.\n",
    "    The first level defines the baseline that holds for all random numbers\n",
    "\n",
    "    Inputs:\n",
    "    * n_samples: number of samples\n",
    "    * contributer_coefficients: dictionary with (mean,sig) per level per contributer\n",
    "\n",
    "    Outputs:\n",
    "    * data: array with the final number\n",
    "    * contributers: matrix defining the contributers, first column is for the first level\"\"\"\n",
    "\n",
    "    # data = np.random.normal(gen_avg, gen_sig, n_samples)\n",
    "    data = np.zeros((n_samples,))\n",
    "    contributers = np.zeros((n_samples, len(contributer_coefficients)))\n",
    "    for lvl, cdict in contributer_coefficients.items():\n",
    "        # print(f\"creating level {lvl}\")\n",
    "        lvl_influencers = len(cdict)  # number of influencers in this level\n",
    "        lvldata = np.zeros((n_samples, lvl_influencers))\n",
    "\n",
    "        for i, (mu, sig) in cdict.items():\n",
    "            lvldata[:, i] = np.random.normal(mu, sig, n_samples)\n",
    "\n",
    "        selection = np.random.randint(low=0, high=lvl_influencers, size=(n_samples))\n",
    "        contributers[:, lvl] = selection\n",
    "\n",
    "        data += np.array([lvldata[row, col] for row, col in enumerate(selection)])\n",
    "        # Note: The first level\n",
    "    return data, contributers.astype(int)\n",
    "\n",
    "\n",
    "def run(n_iterations, n_samples, coefficients):\n",
    "    mem = []\n",
    "\n",
    "    for run_id in range(n_iterations):\n",
    "        data, contributers = gen_data(\n",
    "            n_samples=n_samples, contributer_coefficients=coefficients\n",
    "        )\n",
    "\n",
    "        pipe = Pipeline(\n",
    "            [\n",
    "                (\"ohe\", OneHotEncoder(sparse_output=False)),\n",
    "                (\"regression\", BayesianRidge(fit_intercept=False)),\n",
    "            ]\n",
    "        )\n",
    "        pipe.fit(contributers, data)\n",
    "\n",
    "        df = (\n",
    "            pl.DataFrame(\n",
    "                {\"parameter\": pipe[0].get_feature_names_out(), \"value\": pipe[1].coef_}\n",
    "            )\n",
    "            .with_columns(pl.col(\"parameter\").str.split(\"_\").alias(\"splits\"))\n",
    "            .with_columns(\n",
    "                pl.col(\"splits\").list.first().alias(\"level\"),\n",
    "                pl.col(\"splits\").list.last().alias(\"con\"),\n",
    "                pl.lit(run_id).alias(\"run_id\"),\n",
    "            )\n",
    "            .drop(\"splits\")\n",
    "        )\n",
    "        mem.append(df)\n",
    "\n",
    "    return pl.concat(mem)"
   ]
  },
  {
   "cell_type": "markdown",
   "metadata": {},
   "source": [
    "# Modeling"
   ]
  },
  {
   "cell_type": "code",
   "execution_count": 6,
   "metadata": {},
   "outputs": [],
   "source": [
    "n_contributers = [2, 3, 5, 10, 10]\n",
    "\n",
    "coefficients = gen_contributer_coefficients(\n",
    "    n_contributers=n_contributers, contributer_avg=2, contributer_sig=2\n",
    ")"
   ]
  },
  {
   "cell_type": "code",
   "execution_count": 7,
   "metadata": {},
   "outputs": [],
   "source": [
    "data = run(n_iterations=100, n_samples=1000, coefficients=coefficients)"
   ]
  },
  {
   "cell_type": "code",
   "execution_count": 8,
   "metadata": {},
   "outputs": [
    {
     "data": {
      "text/html": [
       "<div><style>\n",
       ".dataframe > thead > tr,\n",
       ".dataframe > tbody > tr {\n",
       "  text-align: right;\n",
       "  white-space: pre-wrap;\n",
       "}\n",
       "</style>\n",
       "<small>shape: (3_000, 5)</small><table border=\"1\" class=\"dataframe\"><thead><tr><th>parameter</th><th>value</th><th>level</th><th>con</th><th>run_id</th></tr><tr><td>str</td><td>f64</td><td>str</td><td>str</td><td>i32</td></tr></thead><tbody><tr><td>&quot;x0_0&quot;</td><td>-0.476551</td><td>&quot;x0&quot;</td><td>&quot;0&quot;</td><td>0</td></tr><tr><td>&quot;x0_1&quot;</td><td>-0.338778</td><td>&quot;x0&quot;</td><td>&quot;1&quot;</td><td>0</td></tr><tr><td>&quot;x1_0&quot;</td><td>-0.528082</td><td>&quot;x1&quot;</td><td>&quot;0&quot;</td><td>0</td></tr><tr><td>&quot;x1_1&quot;</td><td>-2.201473</td><td>&quot;x1&quot;</td><td>&quot;1&quot;</td><td>0</td></tr><tr><td>&quot;x1_2&quot;</td><td>1.914226</td><td>&quot;x1&quot;</td><td>&quot;2&quot;</td><td>0</td></tr><tr><td>&hellip;</td><td>&hellip;</td><td>&hellip;</td><td>&hellip;</td><td>&hellip;</td></tr><tr><td>&quot;x4_5&quot;</td><td>-0.028744</td><td>&quot;x4&quot;</td><td>&quot;5&quot;</td><td>99</td></tr><tr><td>&quot;x4_6&quot;</td><td>0.007332</td><td>&quot;x4&quot;</td><td>&quot;6&quot;</td><td>99</td></tr><tr><td>&quot;x4_7&quot;</td><td>0.021247</td><td>&quot;x4&quot;</td><td>&quot;7&quot;</td><td>99</td></tr><tr><td>&quot;x4_8&quot;</td><td>-0.004906</td><td>&quot;x4&quot;</td><td>&quot;8&quot;</td><td>99</td></tr><tr><td>&quot;x4_9&quot;</td><td>-0.018576</td><td>&quot;x4&quot;</td><td>&quot;9&quot;</td><td>99</td></tr></tbody></table></div>"
      ],
      "text/plain": [
       "shape: (3_000, 5)\n",
       "┌───────────┬───────────┬───────┬─────┬────────┐\n",
       "│ parameter ┆ value     ┆ level ┆ con ┆ run_id │\n",
       "│ ---       ┆ ---       ┆ ---   ┆ --- ┆ ---    │\n",
       "│ str       ┆ f64       ┆ str   ┆ str ┆ i32    │\n",
       "╞═══════════╪═══════════╪═══════╪═════╪════════╡\n",
       "│ x0_0      ┆ -0.476551 ┆ x0    ┆ 0   ┆ 0      │\n",
       "│ x0_1      ┆ -0.338778 ┆ x0    ┆ 1   ┆ 0      │\n",
       "│ x1_0      ┆ -0.528082 ┆ x1    ┆ 0   ┆ 0      │\n",
       "│ x1_1      ┆ -2.201473 ┆ x1    ┆ 1   ┆ 0      │\n",
       "│ x1_2      ┆ 1.914226  ┆ x1    ┆ 2   ┆ 0      │\n",
       "│ …         ┆ …         ┆ …     ┆ …   ┆ …      │\n",
       "│ x4_5      ┆ -0.028744 ┆ x4    ┆ 5   ┆ 99     │\n",
       "│ x4_6      ┆ 0.007332  ┆ x4    ┆ 6   ┆ 99     │\n",
       "│ x4_7      ┆ 0.021247  ┆ x4    ┆ 7   ┆ 99     │\n",
       "│ x4_8      ┆ -0.004906 ┆ x4    ┆ 8   ┆ 99     │\n",
       "│ x4_9      ┆ -0.018576 ┆ x4    ┆ 9   ┆ 99     │\n",
       "└───────────┴───────────┴───────┴─────┴────────┘"
      ]
     },
     "execution_count": 8,
     "metadata": {},
     "output_type": "execute_result"
    }
   ],
   "source": [
    "data"
   ]
  },
  {
   "cell_type": "markdown",
   "metadata": {},
   "source": [
    "# Dash"
   ]
  },
  {
   "cell_type": "code",
   "execution_count": 44,
   "metadata": {},
   "outputs": [],
   "source": [
    "app = Dash(__name__)\n",
    "\n",
    "# assume you have a \"long-form\" data frame\n",
    "# see https://plotly.com/python/px-arguments/ for more options\n",
    "\n",
    "\n",
    "fig = px.box(data, x=\"parameter\", y=\"value\", color=\"level\")\n",
    "\n",
    "app.layout = html.Div(\n",
    "    children=[\n",
    "        html.H1(children=\"Hello Dash\"),\n",
    "        html.Div(\n",
    "            children=\"\"\"\n",
    "        Dash: A web application framework for your data.\n",
    "    \"\"\"\n",
    "        ),\n",
    "        dcc.Graph(id=\"example_graph\", figure=fig),\n",
    "        dcc.Checklist(\n",
    "            id=\"checklist\",\n",
    "            options=[\n",
    "                {\"label\": f\"{value}\", \"value\": value}\n",
    "                for value in data[\"level\"].unique()\n",
    "            ],\n",
    "            value=[],\n",
    "            labelStyle={\"display\": \"inline-block\"},\n",
    "        ),\n",
    "    ]\n",
    ")\n",
    "\n",
    "\n",
    "color_dict = {\n",
    "    lvl: c\n",
    "    for i, (lvl, c) in enumerate(\n",
    "        zip(data[\"level\"].unique(), px.colors.qualitative.Plotly)\n",
    "    )\n",
    "}\n",
    "\n",
    "\n",
    "@app.callback(\n",
    "    Output(\"example_graph\", \"figure\"),\n",
    "    Input(\"checklist\", \"value\"),\n",
    ")\n",
    "def update_graph(selected_levels):\n",
    "    filtered_df = data.filter(pl.col(\"level\").is_in(selected_levels))\n",
    "\n",
    "    fig = px.box(\n",
    "        filtered_df,\n",
    "        x=\"parameter\",\n",
    "        y=\"value\",\n",
    "        color=\"level\",\n",
    "        hover_name=\"run_id\",\n",
    "        color_discrete_map=color_dict,\n",
    "    )\n",
    "\n",
    "    fig.update_layout(transition_duration=500)\n",
    "\n",
    "    return fig"
   ]
  },
  {
   "cell_type": "code",
   "execution_count": 45,
   "metadata": {},
   "outputs": [
    {
     "data": {
      "text/html": [
       "\n",
       "        <iframe\n",
       "            width=\"100%\"\n",
       "            height=\"650\"\n",
       "            src=\"http://127.0.0.1:8050/\"\n",
       "            frameborder=\"0\"\n",
       "            allowfullscreen\n",
       "            \n",
       "        ></iframe>\n",
       "        "
      ],
      "text/plain": [
       "<IPython.lib.display.IFrame at 0x160bb768500>"
      ]
     },
     "metadata": {},
     "output_type": "display_data"
    }
   ],
   "source": [
    "app.run(debug=True)"
   ]
  },
  {
   "cell_type": "code",
   "execution_count": null,
   "metadata": {},
   "outputs": [],
   "source": []
  }
 ],
 "metadata": {
  "kernelspec": {
   "display_name": "Python 3",
   "language": "python",
   "name": "python3"
  },
  "language_info": {
   "codemirror_mode": {
    "name": "ipython",
    "version": 3
   },
   "file_extension": ".py",
   "mimetype": "text/x-python",
   "name": "python",
   "nbconvert_exporter": "python",
   "pygments_lexer": "ipython3",
   "version": "3.12.1"
  }
 },
 "nbformat": 4,
 "nbformat_minor": 2
}
